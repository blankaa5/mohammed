{
 "cells": [
  {
   "cell_type": "code",
   "execution_count": null,
   "metadata": {},
   "outputs": [],
   "source": [
    "\n",
    "import math\n",
    "print('مرحبا بكم في خدمة الصراف الآلي في بنك معسكر البايثون')\n",
    "restart=('نعم')\n",
    "chances = 3\n",
    "balance = 10000.23\n",
    "while chances >= 0:\n",
    "    pin = int(input('الرجاء إدخال رقمك السري والمكون من 4 خانات: '))\n",
    "    if pin == (1234):\n",
    "        print('التأكد من صحة الرقم السري للبطاقة\\n')\n",
    "        while restart not in ('n','NO','no','N'):\n",
    "            print('اضغط 1- للإستعلام عن الرصيد\\n')\n",
    "            print('اضغط 2- للسحب\\n')\n",
    "            print('اضغط 3- للمدفوعات\\n')\n",
    "            print('اضغط 4- لارجاع البطاقة\\n')\n",
    "            option = int(input('اختر الخدمة المطلوبة ؟'))\n",
    "            if option == 1:\n",
    "                print('رصيدك هو  ريال سعودي',balance,'\\n')\n",
    "                restart = input('هل ترغب في الرجوع ؟')\n",
    "                if restart in ('n','NO','no','N'):\n",
    "                    print('شكراً لك')\n",
    "                    break\n",
    "            elif option == 2:\n",
    "                option2 = ('نعم')\n",
    "                withdrawl = float(input('المبلغ المطلوب للسحب? \\n100 /200 /500 /1000/  5000 \\n أو 1 لاختيار مبلغ آخر  : '))\n",
    "                if withdrawl in [100, 200, 500, 1000, 5000]:\n",
    "                    balance = balance - withdrawl\n",
    "                    print ('رصيدك الحالي هو \\n',balance)\n",
    "                    restart = input('هل ترغب بالعودة للقائمة السابقة ؟ ')\n",
    "                    if restart in ('n','NO','no','N'):\n",
    "                        print(' شكراً ')\n",
    "                        break\n",
    "                elif withdrawl != [100,50, 200, 500, 1000, 5000]:\n",
    "                    print('المبلغ المطلوب للسحب غير متاح, الرجاء إختيار مبلغ آخر\\n')\n",
    "                    restart = ('نعم')\n",
    "                elif withdrawl == 1:\n",
    "                    withdrawl = float(input('الرجاء إختيار المبلغ المطلوب للسحب :'))    \n",
    "\n",
    "            elif option == 3:\n",
    "                Pay_in = float(input(' ادخل المبلغ المطلوب للسداد؟ \\n '))\n",
    "                balance = balance + Pay_in\n",
    "                print ('\\nرصيدك الحالي هو ريال سعودي',balance)\n",
    "                restart = input('هل ترغب بالعودة ؟ ')\n",
    "                if restart in ('n','NO','no','N'):\n",
    "                    print('شكراً لك')\n",
    "                    break\n",
    "            elif option == 4:\n",
    "                print('الرجاء الإنتظار لإرجاع بطاقتك \\n')\n",
    "                print('سعدنا بخدمتك شكراً لك')\n",
    "                break\n",
    "            else:\n",
    "                print('الرجاء التأكد من صحة الرقم المدخل.\\n')\n",
    "                restart = ('نعم')\n",
    "    elif pin != ('1234'):\n",
    "        print('الرقم السري المخل غير صحيح')\n",
    "        chances = chances - 1\n",
    "        if chances == 0:\n",
    "            print('\\n لقد إستنفذت عدد مرات المحاولة ')\n",
    "            \n",
    "\n",
    "\n",
    "\n"
   ]
  },
  {
   "cell_type": "code",
   "execution_count": null,
   "metadata": {},
   "outputs": [],
   "source": []
  },
  {
   "cell_type": "code",
   "execution_count": null,
   "metadata": {},
   "outputs": [],
   "source": []
  }
 ],
 "metadata": {
  "kernelspec": {
   "display_name": "Python 3",
   "language": "python",
   "name": "python3"
  },
  "language_info": {
   "codemirror_mode": {
    "name": "ipython",
    "version": 3
   },
   "file_extension": ".py",
   "mimetype": "text/x-python",
   "name": "python",
   "nbconvert_exporter": "python",
   "pygments_lexer": "ipython3",
   "version": "3.8.5"
  }
 },
 "nbformat": 4,
 "nbformat_minor": 4
}
